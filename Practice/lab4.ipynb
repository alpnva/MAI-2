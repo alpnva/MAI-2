{
 "cells": [
  {
   "cell_type": "code",
   "execution_count": 77,
   "id": "b51bad5c",
   "metadata": {},
   "outputs": [],
   "source": [
    "import pandas as pd\n",
    "import numpy as np\n",
    "import matplotlib.pyplot as plt\n",
    "\n",
    "df = pd.read_csv('Cancer_Data.csv')"
   ]
  },
  {
   "cell_type": "code",
   "execution_count": 78,
   "id": "5e9ec465",
   "metadata": {},
   "outputs": [],
   "source": [
    "df = df.drop(['id', 'Unnamed: 32'], axis = 1)"
   ]
  },
  {
   "cell_type": "code",
   "execution_count": 79,
   "id": "9d188ec1",
   "metadata": {},
   "outputs": [],
   "source": [
    "df['diagnosis'] = df['diagnosis'].apply(lambda x: 0 if x == 'B' else 1)"
   ]
  },
  {
   "cell_type": "code",
   "execution_count": 80,
   "id": "15c7f3fd",
   "metadata": {},
   "outputs": [],
   "source": [
    "X = df.drop(\"diagnosis\",axis=1)\n",
    "y = df[\"diagnosis\"]\n",
    "from sklearn.model_selection import train_test_split\n",
    "X_train,X_test,y_train,y_test = train_test_split(X,y,test_size=0.33,random_state=42, stratify = y)"
   ]
  },
  {
   "cell_type": "code",
   "execution_count": 81,
   "id": "afa3b41f",
   "metadata": {},
   "outputs": [],
   "source": [
    "model_dict = {}"
   ]
  },
  {
   "cell_type": "code",
   "execution_count": 82,
   "id": "28fd95e3",
   "metadata": {},
   "outputs": [
    {
     "name": "stdout",
     "output_type": "stream",
     "text": [
      "90.38461538461539\n",
      "92.3076923076923\n",
      "90.38461538461539\n",
      "96.15384615384616\n",
      "98.07692307692307\n",
      "96.15384615384616\n",
      "98.07692307692307\n",
      "94.23076923076923\n",
      "100.0\n",
      "96.07843137254902\n",
      "96.07843137254902\n"
     ]
    }
   ],
   "source": [
    "from sklearn.model_selection import KFold\n",
    "from sklearn.ensemble import RandomForestClassifier\n",
    "from sklearn.metrics import *\n",
    "rf = RandomForestClassifier()\n",
    "kf = KFold(n_splits=11)\n",
    "\n",
    "for train, test in kf.split(X, y):\n",
    "    rf.fit(X.iloc[train, :], y[train])\n",
    "    y_pred = rf.predict(X.iloc[test, :])\n",
    "    print(accuracy_score(y[test], y_pred) * 100)"
   ]
  },
  {
   "cell_type": "code",
   "execution_count": 83,
   "id": "2ed4f279",
   "metadata": {},
   "outputs": [
    {
     "data": {
      "text/plain": [
       "RandomForestClassifier(n_estimators=200)"
      ]
     },
     "execution_count": 83,
     "metadata": {},
     "output_type": "execute_result"
    }
   ],
   "source": [
    "train, test = list(kf.split(X, y))[8]\n",
    "X_train, y_train = X.iloc[train, :], y[train]\n",
    "X_test , y_test = X.iloc[test, : ] , y[test]\n",
    "rf = RandomForestClassifier(n_estimators=200)\n",
    "rf.fit(X_train,y_train)"
   ]
  },
  {
   "cell_type": "code",
   "execution_count": 84,
   "id": "cb82cada",
   "metadata": {},
   "outputs": [
    {
     "name": "stdout",
     "output_type": "stream",
     "text": [
      "Accuracy_Score :  100.0\n",
      "Precision_Score :  100.0\n",
      "Recall_Score :  1.0\n"
     ]
    }
   ],
   "source": [
    "ypred = rf.predict(X_test)\n",
    "print(\"Accuracy_Score : \",accuracy_score(y_test,ypred)*100)\n",
    "print(\"Precision_Score : \",precision_score(y_test,ypred)*100)\n",
    "print(\"Recall_Score : \",recall_score(y_test,ypred))"
   ]
  },
  {
   "cell_type": "code",
   "execution_count": 85,
   "id": "3b265405",
   "metadata": {},
   "outputs": [
    {
     "data": {
      "image/png": "[encoded data removed]",
      "text/plain": [
       "<Figure size 432x288 with 2 Axes>"
      ]
     },
     "metadata": {
      "needs_background": "light"
     },
     "output_type": "display_data"
    }
   ],
   "source": [
    "import seaborn as sns\n",
    "cm = confusion_matrix(y_test,ypred)\n",
    "sns.heatmap(cm,annot=True)\n",
    "plt.show()"
   ]
  },
  {
   "cell_type": "code",
   "execution_count": 86,
   "id": "f0f9f5ff",
   "metadata": {},
   "outputs": [],
   "source": [
    "import random\n",
    "from xgboost import XGBClassifier, plot_tree\n",
    "from datetime import datetime\n",
    "from sklearn.model_selection import GridSearchCV, RandomizedSearchCV\n",
    "from sklearn.model_selection import train_test_split\n",
    "from sklearn.metrics import classification_report, confusion_matrix, plot_roc_curve, plot_precision_recall_curve, accuracy_score\n",
    "import importlib"
   ]
  },
  {
   "cell_type": "code",
   "execution_count": 87,
   "id": "7eff352c",
   "metadata": {},
   "outputs": [
    {
     "name": "stdout",
     "output_type": "stream",
     "text": [
      "1.0\n"
     ]
    }
   ],
   "source": [
    "classifier = XGBClassifier(random_state=42, eval_metric='logloss')\n",
    "predictor_xgb = classifier.fit(X_train, y_train)\n",
    "y_pred = predictor_xgb.predict(X_test)\n",
    "accuracy_xgb = accuracy_score(y_test, y_pred)\n",
    "model_dict['xgboost_classifier'] = accuracy_xgb\n",
    "print(accuracy_xgb)"
   ]
  },
  {
   "cell_type": "code",
   "execution_count": null,
   "id": "b8d4950c",
   "metadata": {},
   "outputs": [],
   "source": []
  }
 ],
 "metadata": {
  "kernelspec": {
   "display_name": "Python 3 (ipykernel)",
   "language": "python",
   "name": "python3"
  },
  "language_info": {
   "codemirror_mode": {
    "name": "ipython",
    "version": 3
   },
   "file_extension": ".py",
   "mimetype": "text/x-python",
   "name": "python",
   "nbconvert_exporter": "python",
   "pygments_lexer": "ipython3",
   "version": "3.9.12"
  }
 },
 "nbformat": 4,
 "nbformat_minor": 5
}
